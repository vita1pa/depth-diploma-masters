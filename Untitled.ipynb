{
 "cells": [
  {
   "cell_type": "code",
   "execution_count": 4,
   "id": "80cf4895",
   "metadata": {},
   "outputs": [],
   "source": [
    "import numpy as np\n",
    "import matplotlib.pyplot as plt\n",
    "from scipy.optimize import minimize_scalar\n",
    "\n",
    "def hypoexp_cdf(z, mu1, mu2, eps=1e-8):\n",
    "    \"\"\"\n",
    "    Computes the CDF of the hypoexponential distribution for the sum of two independent exponentials.\n",
    "    For |mu1 - mu2| < eps, uses the Erlang(2, mu) formula.\n",
    "    \"\"\"\n",
    "    if np.abs(mu1 - mu2) < eps:\n",
    "        mu = mu1\n",
    "        return 1 - (1 + mu * z) * np.exp(-mu * z)\n",
    "    else:\n",
    "        return 1 - (mu2/(mu2 - mu1))*np.exp(-mu1*z) + (mu1/(mu2 - mu1))*np.exp(-mu2*z)\n",
    "\n",
    "def halfspace_probability(phi, a, b, lam1=1.0, lam2=1.0):\n",
    "    \"\"\"\n",
    "    Computes P{u^T X >= u^T (a,b)}, where u = (cos(phi), sin(phi))\n",
    "    and X = (X1, X2) has independent Exponential distributions with rates lam1 and lam2.\n",
    "    \"\"\"\n",
    "    # Project (a,b) onto direction u\n",
    "    z0 = a*np.cos(phi) + b*np.sin(phi)\n",
    "    # Effective rates for the weighted sum Y = cos(phi)*X1 + sin(phi)*X2\n",
    "    mu1 = lam1 / np.cos(phi)\n",
    "    mu2 = lam2 / np.sin(phi)\n",
    "    F_z0 = hypoexp_cdf(z0, mu1, mu2)\n",
    "    return 1 - F_z0\n",
    "\n",
    "def tukey_depth(phi, a, b, lam1=1.0, lam2=1.0):\n",
    "    \"\"\"\n",
    "    For a fixed direction phi, computes the depth as the smaller tail probability.\n",
    "    \"\"\"\n",
    "    P = halfspace_probability(phi, a, b, lam1, lam2)\n",
    "    return min(P, 1 - P)\n",
    "\n",
    "def optimize_tukey_depth(a, b, lam1=1.0, lam2=1.0, phi_min=0.0, phi_max=2*np.pi):\n",
    "    \"\"\"\n",
    "    Finds the Tukey depth for (a, b) by searching over phi in [phi_min, phi_max].\n",
    "    Returns a tuple (depth, phi_opt) where depth is the minimal tail probability.\n",
    "    \"\"\"\n",
    "    res = minimize_scalar(lambda phi: tukey_depth(phi, a, b, lam1, lam2),\n",
    "                          bounds=(phi_min+1e-6, phi_max-1e-6),\n",
    "                          method='bounded')\n",
    "    return res.fun, res.x\n",
    "\n",
    "def compute_depth(a, b, lam1=1.0, lam2=1.0):\n",
    "    depth, _ = optimize_tukey_depth(a, b, lam1, lam2)\n",
    "    return depth\n",
    "\n",
    "# Create a grid for visualization (e.g. over [0.5, 1.5] in bot\n",
    "\n"
   ]
  },
  {
   "cell_type": "code",
   "execution_count": null,
   "id": "6d766328",
   "metadata": {},
   "outputs": [],
   "source": []
  },
  {
   "cell_type": "code",
   "execution_count": null,
   "id": "8937bfed",
   "metadata": {},
   "outputs": [],
   "source": []
  },
  {
   "cell_type": "code",
   "execution_count": null,
   "id": "15642fb4",
   "metadata": {},
   "outputs": [],
   "source": []
  },
  {
   "cell_type": "code",
   "execution_count": null,
   "id": "a54262d5",
   "metadata": {},
   "outputs": [],
   "source": []
  },
  {
   "cell_type": "code",
   "execution_count": null,
   "id": "85e2f4d3",
   "metadata": {},
   "outputs": [],
   "source": []
  },
  {
   "cell_type": "code",
   "execution_count": null,
   "id": "3cdf5cf4",
   "metadata": {},
   "outputs": [],
   "source": []
  },
  {
   "cell_type": "code",
   "execution_count": null,
   "id": "eacc850c",
   "metadata": {},
   "outputs": [],
   "source": []
  },
  {
   "cell_type": "code",
   "execution_count": 63,
   "id": "2a8c7cf6",
   "metadata": {},
   "outputs": [],
   "source": [
    "import numpy as np\n",
    "import matplotlib.pyplot as plt\n",
    "import scipy.stats as st\n",
    "import scipy.integrate as integrate\n",
    "from tqdm import tqdm  # for progress bar\n",
    "\n",
    "# Define the function phi(u, theta)\n",
    "def phi(u, theta):\n",
    "    return np.sqrt((np.sin(theta)**2) / u + (np.cos(theta)**2) / (1 - u))\n",
    "\n",
    "# Beta density f_U(u) with parameters a = v/2, b = v/2\n",
    "def beta_pdf(u, v):\n",
    "    a = v / 2.0\n",
    "    b = v / 2.0\n",
    "    return st.beta.pdf(u, a, b)\n",
    "\n",
    "# Define the integrand for the expectation E\n",
    "def integrand(u, x, theta, v):\n",
    "    # Student t CDF with df=2v at argument (x*phi(u,theta))\n",
    "    G_val = st.t.cdf(x * phi(u, theta), df=2 * v)\n",
    "    return G_val * beta_pdf(u, v)\n",
    "\n",
    "# Compute the expectation E = ∫_0^1 G(x*phi(u,theta))*f_U(u) du\n",
    "def expectation(x, theta, v):\n",
    "    val, err = integrate.quad(integrand, 0, 1, args=(x, theta, v))\n",
    "    return val\n",
    "\n",
    "# Tukey Depth for a given scalar projection value x (i.e., ||x||) is: TD(x)=1-E\n",
    "def TD_scalar(x, theta, v):\n",
    "    return 1 - expectation(x, theta, v)\n",
    "\n",
    "# For a 2D point (x1, x2), the optimal projection is along x/||x||\n",
    "def TD_point(x1, x2, v):\n",
    "    norm = np.sqrt(x1**2 + x2**2)\n",
    "    if norm == 0:\n",
    "        return 1.0  # depth is maximum at the center\n",
    "    # Determine theta such that sin(theta)= x1/||x|| and cos(theta)= x2/||x||\n",
    "    theta = np.arctan2(x1, x2)\n",
    "    return 1 - expectation(norm, theta, v)\n",
    "\n",
    "# # Create a contour plot of Tukey Depth over a grid in R^2 with a progress bar.\n",
    "# def contour_plot_TD(v, grid_lim=5, grid_points=50):\n",
    "#     xs = np.linspace(-grid_lim, grid_lim, grid_points)\n",
    "#     ys = np.linspace(-grid_lim, grid_lim, grid_points)\n",
    "#     X, Y = np.meshgrid(xs, ys)\n",
    "#     TD_vals = np.zeros_like(X)\n",
    "    \n",
    "#     # Use tqdm to show progress over rows\n",
    "#     for i in tqdm(range(grid_points), desc=\"Computing grid rows\"):\n",
    "#         for j in range(grid_points):\n",
    "#             TD_vals[i, j] = TD_point(X[i, j], Y[i, j], v)\n",
    "    \n",
    "#     plt.figure(figsize=(6, 6))\n",
    "#     cp = plt.contourf(X, Y, TD_vals, levels=5, cmap='viridis')\n",
    "#     plt.colorbar(cp)\n",
    "#     plt.title(\"Tukey Depth (TD) Contour Plot (v = {})\".format(v))\n",
    "#     plt.xlabel(\"x\")\n",
    "#     plt.ylabel(\"y\")\n",
    "#     plt.show()"
   ]
  },
  {
   "cell_type": "code",
   "execution_count": 72,
   "id": "d6865b0a",
   "metadata": {},
   "outputs": [],
   "source": [
    "def contour_plot_TD(v, ax=None, grid_lim=5, grid_points=50):\n",
    "    \"\"\"\n",
    "    Create a contour plot of Tukey Depth on a given axis.\n",
    "    \n",
    "    Parameters:\n",
    "      v: degrees-of-freedom parameter.\n",
    "      ax: a matplotlib axis to plot on (if None, a new figure is created).\n",
    "      grid_lim: the plotting range for both x and y (from -grid_lim to grid_lim).\n",
    "      grid_points: resolution of the grid.\n",
    "      \n",
    "    Returns:\n",
    "      cp: the QuadContourSet object from contourf.\n",
    "      TD_vals: computed Tukey Depth values (2D array).\n",
    "    \"\"\"\n",
    "    xs = np.linspace(-grid_lim, grid_lim, grid_points)\n",
    "    ys = np.linspace(-grid_lim, grid_lim, grid_points)\n",
    "    X, Y = np.meshgrid(xs, ys)\n",
    "    TD_vals = np.zeros_like(X)\n",
    "    \n",
    "    for i in tqdm(range(grid_points), desc=f\"Computing grid rows for v={v}\"):\n",
    "        for j in range(grid_points):\n",
    "            TD_vals[i, j] = TD_point(X[i, j], Y[i, j], v)\n",
    "            \n",
    "    if ax is None:\n",
    "        fig, ax = plt.subplots(figsize=(3, 3))\n",
    "    cp = ax.contourf(X, Y, TD_vals, levels=20, cmap='viridis')\n",
    "    ax.set_title(f\"Tukey Depth (v = {v})\")\n",
    "    ax.set_xlabel(\"x\")\n",
    "    ax.set_ylabel(\"y\")\n",
    "    return cp, TD_vals\n",
    "\n",
    "def multi_contour_plot_TD(v_values, grid_lim=5, grid_points=50):\n",
    "    \"\"\"\n",
    "    Create a single figure with 1 row and len(v_values) columns, each showing \n",
    "    the Tukey Depth contour plot for a different v, using contour_plot_TD directly.\n",
    "    A unified colorbar is added for all subplots.\n",
    "    \n",
    "    Parameters:\n",
    "      v_values: list of v values (e.g., [1, 5, 100])\n",
    "      grid_lim: the plotting range for both x and y.\n",
    "      grid_points: resolution of the grid.\n",
    "    \"\"\"\n",
    "    fig, axs = plt.subplots(1, len(v_values), figsize=(5 * len(v_values), 5))\n",
    "    \n",
    "    # Lists to store depth values for global normalization.\n",
    "    TD_all = []\n",
    "    \n",
    "    # Create each subplot by calling contour_plot_TD.\n",
    "    for i, v in enumerate(v_values):\n",
    "        cp, TD_vals = contour_plot_TD(v, ax=axs[i], grid_lim=grid_lim, grid_points=grid_points)\n",
    "        TD_all.append(TD_vals)\n",
    "    \n",
    "    # Determine global min and max for unified color scaling.\n",
    "    global_min = min(np.min(TD) for TD in TD_all)\n",
    "    global_max = max(np.max(TD) for TD in TD_all)\n",
    "    norm = plt.Normalize(vmin=global_min, vmax=global_max)\n",
    "    \n",
    "    # Update each subplot's contour collections to use the global normalization.\n",
    "    for ax in axs:\n",
    "        for coll in ax.collections:\n",
    "            coll.set_clim(global_min, global_max)\n",
    "    \n",
    "#     # Create a unified colorbar.\n",
    "#     from matplotlib.cm import ScalarMappable\n",
    "#     sm = ScalarMappable(norm=norm, cmap='viridis')\n",
    "#     sm.set_array([])\n",
    "#     fig.colorbar(sm, ax=axs, orientation='vertical', fraction=0.046, pad=0.04, label=\"Tukey Depth\")\n",
    "    \n",
    "    plt.tight_layout()\n",
    "    plt.show()\n",
    "\n",
    "# Example usage:\n",
    "# multi_contour_plot_TD([1, 5, 100], grid_lim=5, grid_points=50)\n"
   ]
  },
  {
   "cell_type": "code",
   "execution_count": 73,
   "id": "1192f248",
   "metadata": {},
   "outputs": [
    {
     "name": "stderr",
     "output_type": "stream",
     "text": [
      "Computing grid rows for v=1: 100%|█████████████████████████████████████████████████████| 10/10 [00:08<00:00,  1.18it/s]\n",
      "Computing grid rows for v=5: 100%|█████████████████████████████████████████████████████| 10/10 [00:05<00:00,  1.67it/s]\n",
      "Computing grid rows for v=100: 100%|███████████████████████████████████████████████████| 10/10 [00:02<00:00,  4.74it/s]\n"
     ]
    },
    {
     "data": {
      "image/png": "[encoded data removed]",
      "text/plain": [
       "<Figure size 1080x360 with 3 Axes>"
      ]
     },
     "metadata": {
      "needs_background": "light"
     },
     "output_type": "display_data"
    }
   ],
   "source": [
    "# Example usage:\n",
    "multi_contour_plot_TD([1, 5, 100], grid_lim=5, grid_points=10)"
   ]
  },
  {
   "cell_type": "code",
   "execution_count": 82,
   "id": "259c7e3c",
   "metadata": {},
   "outputs": [
    {
     "name": "stderr",
     "output_type": "stream",
     "text": [
      "Computing grid rows for v=1: 100%|█████████████████████████████████████████████████████| 50/50 [04:20<00:00,  5.21s/it]\n"
     ]
    },
    {
     "data": {
      "text/plain": [
       "(<matplotlib.contour.QuadContourSet at 0x280eb5e2860>,\n",
       " array([[0.00673546, 0.00701021, 0.00730193, ..., 0.00730193, 0.00701021,\n",
       "         0.00673546],\n",
       "        [0.00701021, 0.00730193, 0.00761204, ..., 0.00761204, 0.00730193,\n",
       "         0.00701021],\n",
       "        [0.00730193, 0.00761204, 0.00794208, ..., 0.00794208, 0.00761204,\n",
       "         0.00730193],\n",
       "        ...,\n",
       "        [0.00730193, 0.00761204, 0.00794208, ..., 0.00794208, 0.00761204,\n",
       "         0.00730193],\n",
       "        [0.00701021, 0.00730193, 0.00761204, ..., 0.00761204, 0.00730193,\n",
       "         0.00701021],\n",
       "        [0.00673546, 0.00701021, 0.00730193, ..., 0.00730193, 0.00701021,\n",
       "         0.00673546]]))"
      ]
     },
     "execution_count": 82,
     "metadata": {},
     "output_type": "execute_result"
    },
    {
     "data": {
      "image/png": "[encoded data removed]",
      "text/plain": [
       "<Figure size 432x432 with 1 Axes>"
      ]
     },
     "metadata": {
      "needs_background": "light"
     },
     "output_type": "display_data"
    }
   ],
   "source": [
    "# Example usage:\n",
    "v_value = 1  # degrees of freedom parameter (v1 = v2 = v_value)\n",
    "\n",
    "# Generate a contour plot of TD over a grid in R^2\n",
    "contour_plot_TD(v_value, grid_lim=3, grid_points=50)"
   ]
  },
  {
   "cell_type": "code",
   "execution_count": null,
   "id": "d6de2647",
   "metadata": {},
   "outputs": [],
   "source": []
  },
  {
   "cell_type": "code",
   "execution_count": 83,
   "id": "c375d5e2",
   "metadata": {},
   "outputs": [
    {
     "name": "stderr",
     "output_type": "stream",
     "text": [
      "Computing grid rows for v=5: 100%|█████████████████████████████████████████████████████| 50/50 [02:43<00:00,  3.27s/it]\n"
     ]
    },
    {
     "data": {
      "text/plain": [
       "(<matplotlib.contour.QuadContourSet at 0x280eb682200>,\n",
       " array([[3.94675546e-05, 4.66033534e-05, 5.50890588e-05, ...,\n",
       "         5.50890588e-05, 4.66033534e-05, 3.94675546e-05],\n",
       "        [4.66033534e-05, 5.52043789e-05, 6.54683962e-05, ...,\n",
       "         6.54683962e-05, 5.52043789e-05, 4.66033534e-05],\n",
       "        [5.50890588e-05, 6.54683962e-05, 7.78988863e-05, ...,\n",
       "         7.78988863e-05, 6.54683962e-05, 5.50890588e-05],\n",
       "        ...,\n",
       "        [5.50890588e-05, 6.54683962e-05, 7.78988863e-05, ...,\n",
       "         7.78988863e-05, 6.54683962e-05, 5.50890588e-05],\n",
       "        [4.66033534e-05, 5.52043789e-05, 6.54683962e-05, ...,\n",
       "         6.54683962e-05, 5.52043789e-05, 4.66033534e-05],\n",
       "        [3.94675546e-05, 4.66033534e-05, 5.50890588e-05, ...,\n",
       "         5.50890588e-05, 4.66033534e-05, 3.94675546e-05]]))"
      ]
     },
     "execution_count": 83,
     "metadata": {},
     "output_type": "execute_result"
    },
    {
     "data": {
      "image/png": "[encoded data removed]",
      "text/plain": [
       "<Figure size 432x432 with 1 Axes>"
      ]
     },
     "metadata": {
      "needs_background": "light"
     },
     "output_type": "display_data"
    }
   ],
   "source": [
    "\n",
    "# Example usage:\n",
    "v_value = 5  # degrees of freedom parameter (v1 = v2 = v_value)\n",
    "\n",
    "# Generate a contour plot of TD over a grid in R^2\n",
    "contour_plot_TD(v_value, grid_lim=3, grid_points=50)\n"
   ]
  },
  {
   "cell_type": "code",
   "execution_count": 9,
   "id": "20a96c68",
   "metadata": {},
   "outputs": [
    {
     "name": "stdout",
     "output_type": "stream",
     "text": [
      "Tukey Depth at point (1, 2) with v = 10: 0.0022\n"
     ]
    },
    {
     "name": "stderr",
     "output_type": "stream",
     "text": [
      "Computing grid rows: 100%|█████████████████████████████████████████████████████████████| 50/50 [00:09<00:00,  5.11it/s]\n"
     ]
    },
    {
     "data": {
      "image/png": "[encoded data removed]",
      "text/plain": [
       "<Figure size 576x432 with 2 Axes>"
      ]
     },
     "metadata": {
      "needs_background": "light"
     },
     "output_type": "display_data"
    }
   ],
   "source": [
    "\n",
    "# Example usage:\n",
    "v_value = 10  # degrees of freedom parameter (v1 = v2 = v_value)\n",
    "\n",
    "# Calculate depth at a specific point (e.g., (1, 2))\n",
    "point = (1, 2)\n",
    "depth_at_point = TD_point(point[0], point[1], v_value)\n",
    "print(\"Tukey Depth at point {} with v = {}: {:.4f}\".format(point, v_value, depth_at_point))\n",
    "\n",
    "# Generate a contour plot of TD over a grid in R^2\n",
    "contour_plot_TD(v_value, grid_lim=3, grid_points=50)\n"
   ]
  },
  {
   "cell_type": "code",
   "execution_count": 10,
   "id": "e422ebb5",
   "metadata": {},
   "outputs": [
    {
     "name": "stdout",
     "output_type": "stream",
     "text": [
      "Tukey Depth at point (1, 2) with v = 25: 0.0013\n"
     ]
    },
    {
     "name": "stderr",
     "output_type": "stream",
     "text": [
      "Computing grid rows: 100%|█████████████████████████████████████████████████████████████| 50/50 [00:23<00:00,  2.17it/s]\n"
     ]
    },
    {
     "data": {
      "image/png": "[encoded data removed]",
      "text/plain": [
       "<Figure size 576x432 with 2 Axes>"
      ]
     },
     "metadata": {
      "needs_background": "light"
     },
     "output_type": "display_data"
    }
   ],
   "source": [
    "\n",
    "# Example usage:\n",
    "v_value = 25  # degrees of freedom parameter (v1 = v2 = v_value)\n",
    "\n",
    "# Calculate depth at a specific point (e.g., (1, 2))\n",
    "point = (1, 2)\n",
    "depth_at_point = TD_point(point[0], point[1], v_value)\n",
    "print(\"Tukey Depth at point {} with v = {}: {:.4f}\".format(point, v_value, depth_at_point))\n",
    "\n",
    "# Generate a contour plot of TD over a grid in R^2\n",
    "contour_plot_TD(v_value, grid_lim=3, grid_points=50)"
   ]
  },
  {
   "cell_type": "code",
   "execution_count": 11,
   "id": "5845f101",
   "metadata": {},
   "outputs": [
    {
     "name": "stdout",
     "output_type": "stream",
     "text": [
      "Tukey Depth at point (1, 2) with v = 100: 0.0009\n"
     ]
    },
    {
     "name": "stderr",
     "output_type": "stream",
     "text": [
      "Computing grid rows: 100%|█████████████████████████████████████████████████████████████| 50/50 [01:01<00:00,  1.23s/it]\n"
     ]
    },
    {
     "data": {
      "image/png": "[encoded data removed]",
      "text/plain": [
       "<Figure size 576x432 with 2 Axes>"
      ]
     },
     "metadata": {
      "needs_background": "light"
     },
     "output_type": "display_data"
    }
   ],
   "source": [
    "\n",
    "# Example usage:\n",
    "v_value = 100  # degrees of freedom parameter (v1 = v2 = v_value)\n",
    "\n",
    "# Calculate depth at a specific point (e.g., (1, 2))\n",
    "point = (1, 2)\n",
    "depth_at_point = TD_point(point[0], point[1], v_value)\n",
    "print(\"Tukey Depth at point {} with v = {}: {:.4f}\".format(point, v_value, depth_at_point))\n",
    "\n",
    "# Generate a contour plot of TD over a grid in R^2\n",
    "contour_plot_TD(v_value, grid_lim=3, grid_points=50)"
   ]
  },
  {
   "cell_type": "code",
   "execution_count": 74,
   "id": "fe680915",
   "metadata": {},
   "outputs": [
    {
     "name": "stdout",
     "output_type": "stream",
     "text": [
      "Tukey Depth at point (1, 2) with v = 100: 0.0009\n"
     ]
    },
    {
     "name": "stderr",
     "output_type": "stream",
     "text": [
      "Computing grid rows for v=100: 100%|███████████████████████████████████████████████████| 50/50 [00:56<00:00,  1.12s/it]\n"
     ]
    },
    {
     "data": {
      "text/plain": [
       "(<matplotlib.contour.QuadContourSet at 0x280eb059c00>,\n",
       " array([[3.97042821e-09, 7.48247342e-09, 1.38361915e-08, ...,\n",
       "         1.38361915e-08, 7.48247342e-09, 3.97042821e-09],\n",
       "        [7.48247331e-09, 1.41215503e-08, 2.61501314e-08, ...,\n",
       "         2.61501314e-08, 1.41215503e-08, 7.48247331e-09],\n",
       "        [1.38361915e-08, 2.61501314e-08, 4.84929010e-08, ...,\n",
       "         4.84929010e-08, 2.61501314e-08, 1.38361915e-08],\n",
       "        ...,\n",
       "        [1.38361915e-08, 2.61501314e-08, 4.84929010e-08, ...,\n",
       "         4.84929010e-08, 2.61501314e-08, 1.38361915e-08],\n",
       "        [7.48247331e-09, 1.41215503e-08, 2.61501314e-08, ...,\n",
       "         2.61501314e-08, 1.41215503e-08, 7.48247331e-09],\n",
       "        [3.97042821e-09, 7.48247342e-09, 1.38361915e-08, ...,\n",
       "         1.38361915e-08, 7.48247342e-09, 3.97042821e-09]]))"
      ]
     },
     "execution_count": 74,
     "metadata": {},
     "output_type": "execute_result"
    },
    {
     "data": {
      "image/png": "[encoded data removed]",
      "text/plain": [
       "<Figure size 432x432 with 1 Axes>"
      ]
     },
     "metadata": {
      "needs_background": "light"
     },
     "output_type": "display_data"
    }
   ],
   "source": [
    "\n",
    "# Example usage:\n",
    "v_value = 100  # degrees of freedom parameter (v1 = v2 = v_value)\n",
    "\n",
    "# Calculate depth at a specific point (e.g., (1, 2))\n",
    "point = (1, 2)\n",
    "depth_at_point = TD_point(point[0], point[1], v_value)\n",
    "print(\"Tukey Depth at point {} with v = {}: {:.4f}\".format(point, v_value, depth_at_point))\n",
    "\n",
    "# Generate a contour plot of TD over a grid in R^2\n",
    "contour_plot_TD(v_value, grid_lim=3, grid_points=50)"
   ]
  },
  {
   "cell_type": "code",
   "execution_count": null,
   "id": "32cda502",
   "metadata": {},
   "outputs": [],
   "source": []
  },
  {
   "cell_type": "code",
   "execution_count": null,
   "id": "1924c5e5",
   "metadata": {},
   "outputs": [],
   "source": []
  },
  {
   "cell_type": "code",
   "execution_count": null,
   "id": "94789d17",
   "metadata": {},
   "outputs": [],
   "source": []
  },
  {
   "cell_type": "code",
   "execution_count": 13,
   "id": "a8fd3c80",
   "metadata": {},
   "outputs": [],
   "source": [
    "import numpy as np\n",
    "import matplotlib.pyplot as plt\n",
    "import scipy.stats as st\n",
    "import scipy.integrate as integrate\n",
    "from tqdm import tqdm  # progress bar\n",
    "\n",
    "# Function phi(u, theta) as defined by\n",
    "# φ(u) = sqrt((sin²(theta)/u) + (cos²(theta)/(1-u)))\n",
    "def phi(u, theta):\n",
    "    return np.sqrt((np.sin(theta)**2) / u + (np.cos(theta)**2) / (1 - u))\n",
    "\n",
    "# Beta density f_U(u) for parameters a = nu1/2 and b = nu2/2\n",
    "def beta_pdf(u, nu1, nu2):\n",
    "    return st.beta.pdf(u, nu1/2.0, nu2/2.0)\n",
    "\n",
    "# Define the integrand for the expectation E:\n",
    "# We use the Student t CDF with degrees of freedom = (nu1 + nu2)\n",
    "# at argument (x * phi(u, theta))\n",
    "def integrand(u, x, theta, nu1, nu2):\n",
    "    G_val = st.t.cdf(x * phi(u, theta), df=(nu1 + nu2))\n",
    "    return G_val * beta_pdf(u, nu1, nu2)\n",
    "\n",
    "# Compute the expectation E = ∫_0^1 G(x*phi(u, theta)) * f_U(u) du\n",
    "def expectation(x, theta, nu1, nu2):\n",
    "    val, err = integrate.quad(integrand, 0, 1, args=(x, theta, nu1, nu2))\n",
    "    return val\n",
    "\n",
    "# Tukey Depth for a given scalar projection value x (i.e., ||x||) is: TD(x) = 1 - E\n",
    "def TD_scalar(x, theta, nu1, nu2):\n",
    "    return 1 - expectation(x, theta, nu1, nu2)\n",
    "\n",
    "# For a 2D point (x1, x2), the optimal projection is along x/||x||.\n",
    "# We define theta so that sin(theta) = x1/||x|| and cos(theta) = x2/||x||.\n",
    "def TD_point(x1, x2, nu1, nu2):\n",
    "    norm = np.sqrt(x1**2 + x2**2)\n",
    "    if norm == 0:\n",
    "        return 1.0  # maximum depth at the center\n",
    "    theta = np.arctan2(x1, x2)  # note: using (x1,x2) so that sin(theta)=x1/||x||\n",
    "    return 1 - expectation(norm, theta, nu1, nu2)\n",
    "\n",
    "# Create a contour plot of Tukey Depth over a grid in R^2.\n",
    "# A progress bar is shown while computing the grid.\n",
    "def contour_plot_TD(nu1, nu2, grid_lim=5, grid_points=50):\n",
    "    xs = np.linspace(-grid_lim, grid_lim, grid_points)\n",
    "    ys = np.linspace(-grid_lim, grid_lim, grid_points)\n",
    "    X, Y = np.meshgrid(xs, ys)\n",
    "    TD_vals = np.zeros_like(X)\n",
    "    \n",
    "    # Loop over grid rows with a progress bar\n",
    "    for i in tqdm(range(grid_points), desc=\"Computing grid rows\"):\n",
    "        for j in range(grid_points):\n",
    "            TD_vals[i, j] = TD_point(X[i, j], Y[i, j], nu1, nu2)\n",
    "    \n",
    "    plt.figure(figsize=(8, 6))\n",
    "    cp = plt.contourf(X, Y, TD_vals, levels=20, cmap='viridis')\n",
    "    plt.colorbar(cp)\n",
    "    plt.title(\"Tukey Depth Contour Plot (nu1 = {}, nu2 = {})\".format(nu1, nu2))\n",
    "    plt.xlabel(\"x\")\n",
    "    plt.ylabel(\"y\")\n",
    "    plt.show()"
   ]
  },
  {
   "cell_type": "code",
   "execution_count": 14,
   "id": "3d202f14",
   "metadata": {},
   "outputs": [
    {
     "name": "stdout",
     "output_type": "stream",
     "text": [
      "Tukey Depth at point (1, 2) with nu1 = 1 and nu2 = 2: 0.0155\n"
     ]
    },
    {
     "name": "stderr",
     "output_type": "stream",
     "text": [
      "Computing grid rows: 100%|█████████████████████████████████████████████████████████████| 50/50 [02:09<00:00,  2.59s/it]\n"
     ]
    },
    {
     "data": {
      "image/png": "[encoded data removed]",
      "text/plain": [
       "<Figure size 576x432 with 2 Axes>"
      ]
     },
     "metadata": {
      "needs_background": "light"
     },
     "output_type": "display_data"
    }
   ],
   "source": [
    "# Example usage:\n",
    "nu1_value = 1   # degrees of freedom for t1\n",
    "nu2_value = 2  # degrees of freedom for t2\n",
    "\n",
    "# Calculate depth at a specific point (e.g., (1, 2))\n",
    "point = (1, 2)\n",
    "depth_at_point = TD_point(point[0], point[1], nu1_value, nu2_value)\n",
    "print(\"Tukey Depth at point {} with nu1 = {} and nu2 = {}: {:.4f}\".format(point, nu1_value, nu2_value, depth_at_point))\n",
    "\n",
    "# Generate a contour plot of Tukey Depth over a grid in R^2\n",
    "contour_plot_TD(nu1_value, nu2_value, grid_lim=3, grid_points=50)"
   ]
  },
  {
   "cell_type": "code",
   "execution_count": 15,
   "id": "a14086c2",
   "metadata": {},
   "outputs": [
    {
     "name": "stdout",
     "output_type": "stream",
     "text": [
      "Tukey Depth at point (1, 2) with nu1 = 1 and nu2 = 5: 0.0049\n"
     ]
    },
    {
     "name": "stderr",
     "output_type": "stream",
     "text": [
      "Computing grid rows: 100%|█████████████████████████████████████████████████████████████| 50/50 [02:47<00:00,  3.34s/it]\n"
     ]
    },
    {
     "data": {
      "image/png": "[encoded data removed]",
      "text/plain": [
       "<Figure size 576x432 with 2 Axes>"
      ]
     },
     "metadata": {
      "needs_background": "light"
     },
     "output_type": "display_data"
    }
   ],
   "source": [
    "# Example usage:\n",
    "nu1_value = 1   # degrees of freedom for t1\n",
    "nu2_value = 5  # degrees of freedom for t2\n",
    "\n",
    "# Calculate depth at a specific point (e.g., (1, 2))\n",
    "point = (1, 2)\n",
    "depth_at_point = TD_point(point[0], point[1], nu1_value, nu2_value)\n",
    "print(\"Tukey Depth at point {} with nu1 = {} and nu2 = {}: {:.4f}\".format(point, nu1_value, nu2_value, depth_at_point))\n",
    "\n",
    "# Generate a contour plot of Tukey Depth over a grid in R^2\n",
    "contour_plot_TD(nu1_value, nu2_value, grid_lim=3, grid_points=50)"
   ]
  },
  {
   "cell_type": "code",
   "execution_count": 16,
   "id": "f9732db8",
   "metadata": {},
   "outputs": [
    {
     "name": "stdout",
     "output_type": "stream",
     "text": [
      "Tukey Depth at point (1, 2) with nu1 = 1 and nu2 = 100: 0.0000\n"
     ]
    },
    {
     "name": "stderr",
     "output_type": "stream",
     "text": [
      "Computing grid rows: 100%|█████████████████████████████████████████████████████████████| 50/50 [02:56<00:00,  3.53s/it]\n"
     ]
    },
    {
     "data": {
      "image/png": "[encoded data removed]",
      "text/plain": [
       "<Figure size 576x432 with 2 Axes>"
      ]
     },
     "metadata": {
      "needs_background": "light"
     },
     "output_type": "display_data"
    }
   ],
   "source": [
    "# Example usage:\n",
    "nu1_value = 1   # degrees of freedom for t1\n",
    "nu2_value = 100  # degrees of freedom for t2\n",
    "\n",
    "# Calculate depth at a specific point (e.g., (1, 2))\n",
    "point = (1, 2)\n",
    "depth_at_point = TD_point(point[0], point[1], nu1_value, nu2_value)\n",
    "print(\"Tukey Depth at point {} with nu1 = {} and nu2 = {}: {:.4f}\".format(point, nu1_value, nu2_value, depth_at_point))\n",
    "\n",
    "# Generate a contour plot of Tukey Depth over a grid in R^2\n",
    "contour_plot_TD(nu1_value, nu2_value, grid_lim=3, grid_points=50)"
   ]
  },
  {
   "cell_type": "code",
   "execution_count": null,
   "id": "e9e52021",
   "metadata": {},
   "outputs": [],
   "source": []
  },
  {
   "cell_type": "code",
   "execution_count": null,
   "id": "c63da15d",
   "metadata": {},
   "outputs": [],
   "source": []
  },
  {
   "cell_type": "code",
   "execution_count": null,
   "id": "1a4fa56b",
   "metadata": {},
   "outputs": [],
   "source": []
  },
  {
   "cell_type": "code",
   "execution_count": 6,
   "id": "24e5725d",
   "metadata": {},
   "outputs": [
    {
     "data": {
      "text/plain": [
       "array([[-inf, -inf, -inf, ..., -inf, -inf, -inf],\n",
       "       [-inf, -inf, -inf, ..., -inf, -inf, -inf],\n",
       "       [-inf, -inf, -inf, ..., -inf, -inf, -inf],\n",
       "       ...,\n",
       "       [-inf, -inf, -inf, ..., -inf, -inf, -inf],\n",
       "       [-inf, -inf, -inf, ..., -inf, -inf, -inf],\n",
       "       [-inf, -inf, -inf, ..., -inf, -inf, -inf]])"
      ]
     },
     "execution_count": 6,
     "metadata": {},
     "output_type": "execute_result"
    }
   ],
   "source": []
  },
  {
   "cell_type": "code",
   "execution_count": 7,
   "id": "0d14ff21",
   "metadata": {},
   "outputs": [
    {
     "name": "stderr",
     "output_type": "stream",
     "text": [
      "C:\\Users\\vital\\AppData\\Local\\Temp\\ipykernel_15144\\4288700252.py:14: RuntimeWarning: overflow encountered in exp\n",
      "  return 1 - (mu2/(mu2 - mu1))*np.exp(-mu1*z) + (mu1/(mu2 - mu1))*np.exp(-mu2*z)\n",
      "C:\\Users\\vital\\AppData\\Local\\Temp\\ipykernel_15144\\1359543465.py:15: UserWarning: No contour levels were found within the data range.\n",
      "  contours = plt.contour(A, B, depth_values, levels=levels, colors=['black'], linestyles='solid')\n"
     ]
    },
    {
     "data": {
      "image/png": "[encoded data removed]",
      "text/plain": [
       "<Figure size 1080x720 with 1 Axes>"
      ]
     },
     "metadata": {
      "needs_background": "light"
     },
     "output_type": "display_data"
    }
   ],
   "source": [
    "# Create a grid in [0.1, 3] x [0.1, 3]\n",
    "a_vals = np.linspace(0.5, 1.5, 250)\n",
    "b_vals = np.linspace(0.5, 1.5, 250)\n",
    "A, B = np.meshgrid(a_vals, b_vals)\n",
    "\n",
    "depth_values = np.zeros_like(A)\n",
    "for i in range(A.shape[0]):\n",
    "    for j in range(A.shape[1]):\n",
    "        depth_values[i, j] = compute_depth(A[i, j], B[i, j], lam1=1.0, lam2=1.0)\n",
    "\n",
    "# Define contour levels\n",
    "levels = [0.3]\n",
    "\n",
    "plt.figure(figsize=(15,10))\n",
    "contours = plt.contour(A, B, depth_values, levels=levels, colors=['black'], linestyles='solid')\n",
    "plt.clabel(contours, inline=True, fontsize=8, fmt='Depth=%.2f')\n",
    "plt.xlabel(\"a\")\n",
    "plt.ylabel(\"b\")\n",
    "plt.title(\"Tukey Depth Contours (lines only) for Bivariate Exponential (λ1=λ2=1)\")\n",
    "plt.show()"
   ]
  },
  {
   "cell_type": "code",
   "execution_count": null,
   "id": "e975f3da",
   "metadata": {},
   "outputs": [],
   "source": []
  },
  {
   "cell_type": "code",
   "execution_count": null,
   "id": "b6b85510",
   "metadata": {},
   "outputs": [],
   "source": []
  },
  {
   "cell_type": "code",
   "execution_count": null,
   "id": "6b31317e",
   "metadata": {},
   "outputs": [],
   "source": []
  },
  {
   "cell_type": "code",
   "execution_count": null,
   "id": "7f727133",
   "metadata": {},
   "outputs": [],
   "source": []
  },
  {
   "cell_type": "code",
   "execution_count": null,
   "id": "d0c6b1a6",
   "metadata": {},
   "outputs": [],
   "source": []
  },
  {
   "cell_type": "code",
   "execution_count": null,
   "id": "4573c4e3",
   "metadata": {},
   "outputs": [],
   "source": []
  },
  {
   "cell_type": "code",
   "execution_count": null,
   "id": "2dad39e8",
   "metadata": {},
   "outputs": [],
   "source": []
  },
  {
   "cell_type": "code",
   "execution_count": null,
   "id": "04ecac6b",
   "metadata": {},
   "outputs": [],
   "source": []
  },
  {
   "cell_type": "code",
   "execution_count": null,
   "id": "4a36758e",
   "metadata": {},
   "outputs": [],
   "source": []
  },
  {
   "cell_type": "code",
   "execution_count": null,
   "id": "86ad0d9e",
   "metadata": {},
   "outputs": [],
   "source": []
  },
  {
   "cell_type": "code",
   "execution_count": null,
   "id": "87edbe16",
   "metadata": {},
   "outputs": [],
   "source": []
  },
  {
   "cell_type": "code",
   "execution_count": null,
   "id": "6062d6e3",
   "metadata": {},
   "outputs": [],
   "source": []
  },
  {
   "cell_type": "code",
   "execution_count": 8,
   "id": "9517ce90",
   "metadata": {},
   "outputs": [
    {
     "name": "stderr",
     "output_type": "stream",
     "text": [
      "C:\\Users\\vital\\AppData\\Local\\Temp\\ipykernel_15144\\2084612595.py:14: RuntimeWarning: overflow encountered in exp\n",
      "  return 1 - (mu2/(mu2 - mu1)) * np.exp(-mu1*z) + (mu1/(mu2 - mu1)) * np.exp(-mu2*z)\n",
      "C:\\Users\\vital\\AppData\\Local\\Temp\\ipykernel_15144\\2084612595.py:64: UserWarning: No contour levels were found within the data range.\n",
      "  contours = plt.contour(A, B, depth_values, levels=levels, colors=['black'], linestyles='solid')\n"
     ]
    },
    {
     "data": {
      "image/png": "[encoded data removed]",
      "text/plain": [
       "<Figure size 1080x720 with 1 Axes>"
      ]
     },
     "metadata": {
      "needs_background": "light"
     },
     "output_type": "display_data"
    }
   ],
   "source": [
    "import numpy as np\n",
    "import matplotlib.pyplot as plt\n",
    "from scipy.optimize import minimize_scalar\n",
    "\n",
    "def hypoexp_cdf(z, mu1, mu2, eps=1e-8):\n",
    "    \"\"\"\n",
    "    Computes the CDF of the hypoexponential distribution for the sum of two independent exponentials.\n",
    "    For |mu1 - mu2| < eps, uses the equal-parameter formula.\n",
    "    \"\"\"\n",
    "    if np.abs(mu1 - mu2) < eps:\n",
    "        mu = mu1\n",
    "        return 1 - (1 + mu * z) * np.exp(-mu * z)\n",
    "    else:\n",
    "        return 1 - (mu2/(mu2 - mu1)) * np.exp(-mu1*z) + (mu1/(mu2 - mu1)) * np.exp(-mu2*z)\n",
    "\n",
    "def halfspace_probability(phi, a, b, lam1=1.0, lam2=1.0):\n",
    "    \"\"\"\n",
    "    Compute P{u^T X >= u^T(a,b)}, where u=(cos(phi), sin(phi)) \n",
    "    and X follows a bivariate exponential with lam1=lam2=1.\n",
    "    \"\"\"\n",
    "    z0 = a*np.cos(phi) + b*np.sin(phi)\n",
    "    mu1 = lam1 / np.cos(phi)\n",
    "    mu2 = lam2 / np.sin(phi)\n",
    "    F_z0 = hypoexp_cdf(z0, mu1, mu2)\n",
    "    return 1 - F_z0\n",
    "\n",
    "def tukey_depth(phi, a, b, lam1=1.0, lam2=1.0):\n",
    "    \"\"\"\n",
    "    Tukey depth for a fixed direction phi:\n",
    "      depth(phi) = min(P, 1-P),\n",
    "    where P = P{u^T X >= u^T(a,b)}.\n",
    "    \"\"\"\n",
    "    P = halfspace_probability(phi, a, b, lam1, lam2)\n",
    "    return min(P, 1 - P)\n",
    "\n",
    "def optimize_tukey_depth(a, b, lam1=1.0, lam2=1.0, phi_min=0.0, phi_max=np.pi):\n",
    "    \"\"\"\n",
    "    Finds the Tukey depth for (a,b) by searching over phi in [0, pi/2].\n",
    "    Returns (depth, phi_opt).\n",
    "    \"\"\"\n",
    "    res = minimize_scalar(lambda phi: tukey_depth(phi, a, b, lam1, lam2),\n",
    "                          bounds=(phi_min+1e-6, phi_max-1e-6),\n",
    "                          method='bounded')\n",
    "    return res.fun, res.x\n",
    "\n",
    "def compute_depth(a, b, lam1=1.0, lam2=1.0):\n",
    "    depth, _ = optimize_tukey_depth(a, b, lam1, lam2)\n",
    "    return depth\n",
    "\n",
    "# Create a grid in [0.1, 3] x [0.1, 3]\n",
    "a_vals = np.linspace(0.5, 1.5, 250)\n",
    "b_vals = np.linspace(0.5, 1.5, 250)\n",
    "A, B = np.meshgrid(a_vals, b_vals)\n",
    "\n",
    "depth_values = np.zeros_like(A)\n",
    "for i in range(A.shape[0]):\n",
    "    for j in range(A.shape[1]):\n",
    "        depth_values[i, j] = compute_depth(A[i, j], B[i, j], lam1=1.0, lam2=1.0)\n",
    "\n",
    "# Define contour levels\n",
    "levels = [0.4, 0.44, 0.46]\n",
    "\n",
    "plt.figure(figsize=(15,10))\n",
    "contours = plt.contour(A, B, depth_values, levels=levels, colors=['black'], linestyles='solid')\n",
    "plt.clabel(contours, inline=True, fontsize=8, fmt='Depth=%.2f')\n",
    "plt.xlabel(\"a\")\n",
    "plt.ylabel(\"b\")\n",
    "plt.title(\"Tukey Depth Contours (lines only) for Bivariate Exponential (λ1=λ2=1)\")\n",
    "plt.show()"
   ]
  },
  {
   "cell_type": "code",
   "execution_count": 9,
   "id": "14f6182b",
   "metadata": {},
   "outputs": [
    {
     "data": {
      "text/plain": [
       "array([[-inf, -inf, -inf, ..., -inf, -inf, -inf],\n",
       "       [-inf, -inf, -inf, ..., -inf, -inf, -inf],\n",
       "       [-inf, -inf, -inf, ..., -inf, -inf, -inf],\n",
       "       ...,\n",
       "       [-inf, -inf, -inf, ..., -inf, -inf, -inf],\n",
       "       [-inf, -inf, -inf, ..., -inf, -inf, -inf],\n",
       "       [-inf, -inf, -inf, ..., -inf, -inf, -inf]])"
      ]
     },
     "execution_count": 9,
     "metadata": {},
     "output_type": "execute_result"
    }
   ],
   "source": [
    "depth_values"
   ]
  },
  {
   "cell_type": "code",
   "execution_count": null,
   "id": "584720d7",
   "metadata": {},
   "outputs": [],
   "source": []
  },
  {
   "cell_type": "code",
   "execution_count": null,
   "id": "458ca9d7",
   "metadata": {},
   "outputs": [],
   "source": []
  },
  {
   "cell_type": "code",
   "execution_count": null,
   "id": "86a1cf6c",
   "metadata": {},
   "outputs": [],
   "source": []
  },
  {
   "cell_type": "code",
   "execution_count": 7,
   "id": "83cd4605",
   "metadata": {},
   "outputs": [
    {
     "data": {
      "image/png": "[encoded data removed]",
      "text/plain": [
       "<Figure size 504x432 with 2 Axes>"
      ]
     },
     "metadata": {
      "needs_background": "light"
     },
     "output_type": "display_data"
    },
    {
     "data": {
      "text/plain": [
       "<matplotlib.contour.QuadContourSet at 0x21c97b77a90>"
      ]
     },
     "execution_count": 7,
     "metadata": {},
     "output_type": "execute_result"
    },
    {
     "data": {
      "image/png": "[encoded data removed]",
      "text/plain": [
       "<Figure size 432x288 with 1 Axes>"
      ]
     },
     "metadata": {
      "needs_background": "light"
     },
     "output_type": "display_data"
    }
   ],
   "source": [
    "import numpy as np\n",
    "import matplotlib.pyplot as plt\n",
    "\n",
    "# Define grid\n",
    "grid_size = 400\n",
    "x_vals = np.linspace(-5, 5, grid_size)\n",
    "y_vals = np.linspace(-5, 5, grid_size)\n",
    "X, Y = np.meshgrid(x_vals, y_vals)\n",
    "\n",
    "# Compute polar coordinates indirectly:\n",
    "# Use absolute values to compute |x|+|y|\n",
    "AbsX = np.abs(X)\n",
    "AbsY = np.abs(Y)\n",
    "L1 = AbsX + AbsY\n",
    "R2 = X**2 + Y**2\n",
    "\n",
    "# Avoid division by zero: set L1=1 at origin (it won't matter because r=0)\n",
    "L1[L1==0] = 1\n",
    "\n",
    "# Compute the argument for arctan\n",
    "Arg = R2 / L1\n",
    "\n",
    "# Compute Tukey depth for v=1 (Cauchy)\n",
    "Depth = 0.5 + (1/np.pi)*np.arctan(Arg)\n",
    "\n",
    "# Plot contour\n",
    "plt.figure(figsize=(7, 6))\n",
    "contour = plt.contourf(X, Y, Depth, levels=20, cmap='viridis')\n",
    "plt.colorbar(label=\"Tukey Depth\")\n",
    "plt.xlabel(\"X\")\n",
    "plt.ylabel(\"Y\")\n",
    "plt.title(\"Tukey Depth Contours for Bivariate Cauchy (v=1)\")\n",
    "plt.grid(True)\n",
    "plt.show()"
   ]
  },
  {
   "cell_type": "code",
   "execution_count": 8,
   "id": "0dc668e1",
   "metadata": {},
   "outputs": [
    {
     "data": {
      "text/plain": [
       "<matplotlib.contour.QuadContourSet at 0x21c99397ee0>"
      ]
     },
     "execution_count": 8,
     "metadata": {},
     "output_type": "execute_result"
    },
    {
     "data": {
      "image/png": "[encoded data removed]",
      "text/plain": [
       "<Figure size 432x288 with 1 Axes>"
      ]
     },
     "metadata": {
      "needs_background": "light"
     },
     "output_type": "display_data"
    }
   ],
   "source": []
  },
  {
   "cell_type": "code",
   "execution_count": null,
   "id": "5b39b5da",
   "metadata": {},
   "outputs": [],
   "source": []
  },
  {
   "cell_type": "code",
   "execution_count": null,
   "id": "d2ecb700",
   "metadata": {},
   "outputs": [],
   "source": []
  },
  {
   "cell_type": "code",
   "execution_count": null,
   "id": "346c5330",
   "metadata": {},
   "outputs": [],
   "source": []
  },
  {
   "cell_type": "code",
   "execution_count": null,
   "id": "2b61c444",
   "metadata": {},
   "outputs": [],
   "source": []
  },
  {
   "cell_type": "code",
   "execution_count": 48,
   "id": "6483ad49",
   "metadata": {},
   "outputs": [
    {
     "name": "stdout",
     "output_type": "stream",
     "text": [
      "ANOVA F-statistic: 4.063610456311296\n",
      "ANOVA p-value: 0.04381685445862233\n"
     ]
    },
    {
     "data": {
      "image/png": "[encoded data removed]",
      "text/plain": [
       "<Figure size 432x288 with 1 Axes>"
      ]
     },
     "metadata": {
      "needs_background": "light"
     },
     "output_type": "display_data"
    }
   ],
   "source": [
    "import numpy as np\n",
    "import matplotlib.pyplot as plt\n",
    "from scipy.stats import f_oneway\n",
    "\n",
    "# Parameters\n",
    "df = 3             # degrees of freedom for the t-distribution\n",
    "phi = 4 * np.pi / 5    # angle phi in radians\n",
    "n_samples = 1000000    # number of samples\n",
    "\n",
    "# Generate independent samples for t1 and t2\n",
    "t1 = np.random.standard_t(df, size=n_samples)\n",
    "t2 = np.random.standard_t(df, size=n_samples)\n",
    "\n",
    "# Compute the two expressions\n",
    "x = t1 * np.sin(phi) - t2 * np.cos(phi)\n",
    "y = t1 * np.sin(phi) + t2 * np.cos(phi)\n",
    "\n",
    "# Perform one-way ANOVA to compare the means of the two samples\n",
    "f_stat, p_value = f_oneway(x, y)\n",
    "print(\"ANOVA F-statistic:\", f_stat)\n",
    "print(\"ANOVA p-value:\", p_value)\n",
    "\n",
    "# Plot histograms for visual comparison\n",
    "plt.hist(x, bins=50, density=True, alpha=0.5, label='t1*sin(phi)-t2*cos(phi)')\n",
    "plt.hist(y, bins=50, density=True, alpha=0.5, label='t1*sin(phi)+t2*cos(phi)')\n",
    "plt.xlabel(\"Value\")\n",
    "plt.ylabel(\"Density\")\n",
    "plt.title(\"Histograms of the Two Distributions\")\n",
    "plt.legend()\n",
    "plt.grid(True)\n",
    "plt.show()\n"
   ]
  },
  {
   "cell_type": "code",
   "execution_count": null,
   "id": "65212f5d",
   "metadata": {},
   "outputs": [],
   "source": []
  },
  {
   "cell_type": "code",
   "execution_count": null,
   "id": "26c989f4",
   "metadata": {},
   "outputs": [],
   "source": []
  }
 ],
 "metadata": {
  "kernelspec": {
   "display_name": "Python 3 (ipykernel)",
   "language": "python",
   "name": "python3"
  },
  "language_info": {
   "codemirror_mode": {
    "name": "ipython",
    "version": 3
   },
   "file_extension": ".py",
   "mimetype": "text/x-python",
   "name": "python",
   "nbconvert_exporter": "python",
   "pygments_lexer": "ipython3",
   "version": "3.10.4"
  }
 },
 "nbformat": 4,
 "nbformat_minor": 5
}
